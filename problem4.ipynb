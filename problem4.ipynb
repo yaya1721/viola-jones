{
 "cells": [
  {
   "cell_type": "code",
   "execution_count": 4,
   "metadata": {},
   "outputs": [
    {
     "name": "stdout",
     "output_type": "stream",
     "text": [
      "C:\\Users\\Sonya\\Documents\\GitHub\\viola-jones\n"
     ]
    },
    {
     "ename": "AttributeError",
     "evalue": "'AdaBoostClassifier' object has no attribute 'estimators'",
     "output_type": "error",
     "traceback": [
      "\u001b[1;31m---------------------------------------------------------------------------\u001b[0m",
      "\u001b[1;31mAttributeError\u001b[0m                            Traceback (most recent call last)",
      "\u001b[1;32m<ipython-input-4-36324ab3e607>\u001b[0m in \u001b[0;36m<module>\u001b[1;34m\u001b[0m\n\u001b[0;32m     51\u001b[0m \u001b[1;33m\u001b[0m\u001b[0m\n\u001b[0;32m     52\u001b[0m \u001b[1;33m\u001b[0m\u001b[0m\n\u001b[1;32m---> 53\u001b[1;33m \u001b[1;32mfor\u001b[0m \u001b[0mi\u001b[0m \u001b[1;32min\u001b[0m \u001b[0mrange\u001b[0m\u001b[1;33m(\u001b[0m\u001b[0mlen\u001b[0m\u001b[1;33m(\u001b[0m\u001b[0mabc\u001b[0m\u001b[1;33m.\u001b[0m\u001b[0mestimators\u001b[0m\u001b[1;33m)\u001b[0m\u001b[1;33m)\u001b[0m\u001b[1;33m:\u001b[0m\u001b[1;33m\u001b[0m\u001b[1;33m\u001b[0m\u001b[0m\n\u001b[0m\u001b[0;32m     54\u001b[0m     \u001b[0mprint\u001b[0m\u001b[1;33m(\u001b[0m\u001b[1;34mf\"Tree {i}: \"\u001b[0m\u001b[1;33m)\u001b[0m\u001b[1;33m\u001b[0m\u001b[1;33m\u001b[0m\u001b[0m\n\u001b[0;32m     55\u001b[0m     \u001b[0mprint\u001b[0m\u001b[1;33m(\u001b[0m\u001b[1;34mf\"Weight: {abc.estimator_weights_[i]}\"\u001b[0m\u001b[1;33m)\u001b[0m\u001b[1;33m\u001b[0m\u001b[1;33m\u001b[0m\u001b[0m\n",
      "\u001b[1;31mAttributeError\u001b[0m: 'AdaBoostClassifier' object has no attribute 'estimators'"
     ]
    }
   ],
   "source": [
    "from sklearn import tree\n",
    "from sklearn.model_selection import train_test_split\n",
    "from sklearn.ensemble import AdaBoostClassifier\n",
    "import os\n",
    "import cv2 as cv\n",
    "import numpy as np\n",
    "import pandas as pd \n",
    "import random\n",
    "from features import *\n",
    "\n",
    "'''\n",
    "1. Selecting Haar-like features\n",
    "2. Creating an integral image\n",
    "3. Running AdaBoost training\n",
    "4. Creating classifier cascade\n",
    "\n",
    "'''\n",
    "\n",
    "\n",
    "path = os.getcwd()\n",
    "print(path)\n",
    "path_face = path + \"/face.test/face/\"\n",
    "path_noface = path + \"/face.test/non-face/\"\n",
    "\n",
    "#load data\n",
    "X = []\n",
    "\n",
    "try:\n",
    "    for img in os.listdir(path_face):\n",
    "        img_path = f\"{path_face}{img}\"\n",
    "        X.append(cv.imread(img_path))\n",
    "\n",
    "    for img in os.listdir(path_noface):\n",
    "        img_path = f\"{path_noface}{img}\"\n",
    "        X.append(cv.imread(img_path))\n",
    "    \n",
    "except FileNotFoundError:\n",
    "    print(\"Unable to locate files...\")\n",
    "\n",
    "# Split the pictures in faces.train.tar.gz further into training and validation sets\n",
    "X_train, X_val = train_test_split(X, test_size=0.33)\n",
    "\n",
    "\n",
    "\n",
    "# Compute Haar-like features\n",
    "\n",
    "\n",
    "\n",
    "# Create adaboost classifer object\n",
    "abc = AdaBoostClassifier(n_estimators = 10, algorithm = {'SAMME'})\n",
    "\n",
    "\n",
    "for i in range(len(abc.estimators_)):\n",
    "    print(f\"Tree {i}: \")\n",
    "    print(f\"Weight: {abc.estimator_weights_[i]}\")\n",
    "    print(tree.export_text(abc.estimators_[i]))"
   ]
  },
  {
   "cell_type": "code",
   "execution_count": null,
   "metadata": {},
   "outputs": [],
   "source": []
  }
 ],
 "metadata": {
  "kernelspec": {
   "display_name": "Python 3",
   "language": "python",
   "name": "python3"
  },
  "language_info": {
   "codemirror_mode": {
    "name": "ipython",
    "version": 3
   },
   "file_extension": ".py",
   "mimetype": "text/x-python",
   "name": "python",
   "nbconvert_exporter": "python",
   "pygments_lexer": "ipython3",
   "version": "3.7.4"
  }
 },
 "nbformat": 4,
 "nbformat_minor": 2
}
